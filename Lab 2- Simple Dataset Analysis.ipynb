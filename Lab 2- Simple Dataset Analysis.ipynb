{
 "cells": [
  {
   "cell_type": "markdown",
   "metadata": {},
   "source": [
    "# Lab #2: Democrats 2018 Primary Results and Data Analysis"
   ]
  },
  {
   "cell_type": "markdown",
   "metadata": {},
   "source": [
    "Lillian Ellis"
   ]
  },
  {
   "cell_type": "markdown",
   "metadata": {},
   "source": [
    "Created September 11, 2018"
   ]
  },
  {
   "cell_type": "markdown",
   "metadata": {},
   "source": [
    "**Abstract:**"
   ]
  },
  {
   "cell_type": "markdown",
   "metadata": {},
   "source": [
    "In this lab, I worked with a data set surrounding the democrats involved in the primary elections this year around our country. Throughout the lab, I worked to answer a few questions. How many candidates were running for governor? What about the U.S. House of Representatives? How many identified as LGBTQ, non-white, or were veterans? How many were Obama Alum? How many of these democratic candidates advanced to the general election? How many lost their races?"
   ]
  },
  {
   "cell_type": "markdown",
   "metadata": {},
   "source": [
    "**Data Set Preparation:**"
   ]
  },
  {
   "cell_type": "markdown",
   "metadata": {},
   "source": [
    "My data is all from FiveThirtyEight: a well known, reputable website founded by Nate Silver that focuses on data analysis, specifically poll analysis. The data set contains information from all open democratic primary elections through August 7th of 2018. The data set contains information on the 811 democratic candidates who ran for various positions up until the 7th. The specific data set I used contained 812 lines of data, and was extremely well organized. One downside of the data-set was that some information surrounding party support, Emily endorsed, gun sense, Biden endorsed, and more were missing or partially filled out. The table was not fully complete. However, the data was well organized, accurate, and the GitHub description contained information on where each number, fact, or name was pulled from."
   ]
  },
  {
   "cell_type": "markdown",
   "metadata": {},
   "source": [
    "Link to Data Set (From FiveThirtyEight's GitHub): https://github.com/fivethirtyeight/data "
   ]
  },
  {
   "cell_type": "markdown",
   "metadata": {},
   "source": [
    "Link to Five Thirty Eight Article using Data: https://fivethirtyeight.com/features/the-establishment-is-beating-the-progressive-wing-in-democratic-primaries-so-far/"
   ]
  },
  {
   "cell_type": "markdown",
   "metadata": {},
   "source": [
    "Here, I opened the file, and seperated each row by commas using the \".split\" method. By splitting each row in this way, I created a list of lists to find under the list \"candidate_data\" which were split by rows. Unlike lab one, where I created a for loop to append them all to lists by row, here I am making a literal list of lists by row. This will make it extremley easy to pull information from a specific candidate, as I do not have to search for an index as I did in Lab 1, but can pull from my \"list of lists.\" \n",
    "\n",
    "I then closed the file, and deleted the first 3 rows (using :2, as they were all titles)\n",
    "\n",
    "I then defined the column's indexes into variables for organizational purposes (so: candidate name, state name, district, etc.)"
   ]
  },
  {
   "cell_type": "code",
   "execution_count": 4,
   "metadata": {
    "collapsed": true
   },
   "outputs": [],
   "source": [
    "#opening file\n",
    "data_file = open(\"dem_candidates.csv\", \"r\")\n",
    "\n",
    "#creating list to store the data\n",
    "candidate_data = [];\n",
    "\n",
    "#appending data from file into the list\n",
    "\n",
    "for row in data_file:\n",
    "    candidate_data.append(row.split(\",\")); \n",
    "    \n",
    "#closing file\n",
    "data_file.close();\n",
    "\n",
    "#remove the first element (column header)\n",
    "del candidate_data[:2];\n",
    "\n",
    "\n",
    "#defining all columns indexes under variables \n",
    "candidate_name = 0\n",
    "state_name = 1\n",
    "district = 2\n",
    "office_type = 3\n",
    "race_type = 4\n",
    "election_data = 5\n",
    "primary_status = 6\n",
    "primary_runoff = 7\n",
    "general_status = 8\n",
    "partisan_lean = 9\n",
    "primary_pct = 10\n",
    "won_primary = 11\n",
    "candidate_race = 12\n",
    "veteran = 13\n",
    "LGBTQ = 14\n",
    "elected_official = 15\n",
    "self_funder = 16\n",
    "STEM = 17\n",
    "Obama_alum = 18\n"
   ]
  },
  {
   "cell_type": "markdown",
   "metadata": {},
   "source": [
    "**Data Modeling:**"
   ]
  },
  {
   "cell_type": "markdown",
   "metadata": {},
   "source": [
    "To gather all of this information, I mainly used a for loop to gather data in my \"list of lists: candidate_data.\" I then put an if statement in this for loop which looked for the positive which I was trying to gather. For this, I used i as a way to check every element, and the defined index column which I defined above. I then counted this with the count + 1 to continue the loop to cycle through all of the data, and then implemented a print statement to print the findings.  "
   ]
  },
  {
   "cell_type": "code",
   "execution_count": 5,
   "metadata": {},
   "outputs": [
    {
     "name": "stdout",
     "output_type": "stream",
     "text": [
      "Candidate Information:\n",
      "811 candidates ran this past primary race\n",
      "100 candidates ran for governor\n",
      "687 candidates ran for U.S. House of Representatives\n",
      "546 democratic candidates lost\n",
      "265 democratic candidates advanced to the general election\n",
      "37 LGBTQ democratic candidates ran for a position this past primary\n",
      "203 non-white democratic candidates ran this past primary\n",
      "34 candidates who ran are Obama Alum\n",
      "123 democratic candidates are veterans\n"
     ]
    }
   ],
   "source": [
    "\n",
    "print(\"Candidate Information:\")\n",
    "\n",
    "print(len(candidate_data),\"candidates ran this past primary race\")\n",
    "#count for governor \n",
    "gov_count = 0\n",
    "\n",
    "for i in range (len(candidate_data)):\n",
    "    if candidate_data[i][office_type] == \"Governor\":\n",
    "        gov_count = gov_count + 1\n",
    "\n",
    "print(gov_count, \"candidates ran for governor\")\n",
    "\n",
    "#for count in US count of representatives \n",
    "us_rep = 0\n",
    "for i in range (len(candidate_data)):\n",
    "    if candidate_data[i][office_type] == \"Representative\":\n",
    "        us_rep = us_rep + 1\n",
    "print(us_rep, \"candidates ran for U.S. House of Representatives\")\n",
    "\n",
    "#counting how many candidates lost \n",
    "loss_count = 0\n",
    "for i in range (len(candidate_data)):\n",
    "    if candidate_data[i][primary_status] == \"Lost\":\n",
    "        loss_count = loss_count + 1\n",
    "print(loss_count, \"democratic candidates lost\")\n",
    "\n",
    "#counting how many candidates won\n",
    "win_count = 0\n",
    "for i in range (len(candidate_data)):\n",
    "    if candidate_data[i][primary_status] == \"Advanced\":\n",
    "        win_count = win_count + 1\n",
    "print(win_count, \"democratic candidates advanced to the general election\")\n",
    "\n",
    "#counting how many LGBTQ candidates ran overall\n",
    "LGBTQ_count = 0\n",
    "for i in range (len(candidate_data)):\n",
    "    if candidate_data[i][LGBTQ] == \"Yes\":\n",
    "        LGBTQ_count = LGBTQ_count + 1\n",
    "print(LGBTQ_count, \"LGBTQ democratic candidates ran for a position this past primary\")\n",
    "\n",
    "#counting how many non-white candidates ran overall\n",
    "non_white_count = 0\n",
    "for i in range (len(candidate_data)):\n",
    "    if candidate_data[i][candidate_race] == \"Nonwhite\":\n",
    "        non_white_count = non_white_count + 1\n",
    "print(non_white_count, \"non-white democratic candidates ran this past primary\")\n",
    "\n",
    "#print how many candidates are Obama alum \n",
    "obama_count = 0\n",
    "for i in range (len(candidate_data)):\n",
    "    if candidate_data[i][Obama_alum] == \"Yes\":\n",
    "        obama_count = obama_count + 1\n",
    "print(obama_count, \"candidates who ran are Obama Alum\")\n",
    "\n",
    "#print how many candidates are veterans\n",
    "veteran_count = 0\n",
    "for i in range (len(candidate_data)):\n",
    "    if candidate_data[i][veteran] == \"Yes\":\n",
    "        veteran_count = veteran_count + 1\n",
    "        \n",
    "print(veteran_count, \"democratic candidates are veterans\")\n",
    "    \n",
    "        "
   ]
  },
  {
   "cell_type": "markdown",
   "metadata": {},
   "source": [
    "Next, I wanted to count the individual, unique amount of states each candidate represented. To do this, I used the set function to count unique names, so the state of Alabama for example wasn't counted more than once.  "
   ]
  },
  {
   "cell_type": "code",
   "execution_count": 6,
   "metadata": {},
   "outputs": [
    {
     "name": "stdout",
     "output_type": "stream",
     "text": [
      "There were 15 different states where candidates ran\n"
     ]
    }
   ],
   "source": [
    "#candidate state number\n",
    "set_length = (len(set(candidate_data[state_name])))\n",
    "print(\"There were\", set_length, \"different states where candidates ran\")"
   ]
  },
  {
   "cell_type": "markdown",
   "metadata": {},
   "source": [
    "**Data Analysis and Conclusion**"
   ]
  },
  {
   "cell_type": "markdown",
   "metadata": {
    "collapsed": true
   },
   "source": [
    "Overall, I learned alot from the data set and analysis at hand. Out of the 811 democratic candidates that this data set covered, around 12% of them ran for governor, while around 84% ran for U.S. House of Representatives. The majority of candidates lost thier race, but the winning democrat moves onto the general election- as the 265 advancing are the democratic candidate in the general. 4.6% of candidates are LGBTQ, and 25% of them do not identify as white. About 15% of candidates who ran are veterans. A large amount of democratic candidates ran for office this year, as more candidates lost than one (as they were racing against eachother). This should mean a good turnout of voters and support for the general, as the democratic winner was narrowed against a tougher competition with more candidates. This large show of democratic candidates suggests a strong support for democrats in November, but could also lead to a split vote as more candidates ran and a greater variety were supported. In addition, this year a fair amount of LGBTQ, non-white, and veterans ran for office, making for a more diverse and different group of candidates. "
   ]
  },
  {
   "cell_type": "markdown",
   "metadata": {},
   "source": [
    "**Acknowledgements**"
   ]
  },
  {
   "cell_type": "markdown",
   "metadata": {},
   "source": [
    "For this project, I referred to the More Python Practice file that Ms. Sconyers shared with us to recall certain functions for calling, reading, and organizing data. I worked with Ms. Sconyers alot on how to organize my data. Additionally, I used John Gruber's Canonical Markdown Cheatsheet. All data was pulled from Five Thirty Eight.  "
   ]
  },
  {
   "cell_type": "code",
   "execution_count": null,
   "metadata": {
    "collapsed": true
   },
   "outputs": [],
   "source": []
  }
 ],
 "metadata": {
  "kernelspec": {
   "display_name": "Python 3",
   "language": "python",
   "name": "python3"
  },
  "language_info": {
   "codemirror_mode": {
    "name": "ipython",
    "version": 3
   },
   "file_extension": ".py",
   "mimetype": "text/x-python",
   "name": "python",
   "nbconvert_exporter": "python",
   "pygments_lexer": "ipython3",
   "version": "3.6.3"
  }
 },
 "nbformat": 4,
 "nbformat_minor": 2
}
